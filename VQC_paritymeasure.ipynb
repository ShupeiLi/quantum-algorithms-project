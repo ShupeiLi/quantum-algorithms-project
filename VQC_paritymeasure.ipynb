{
 "cells": [
  {
   "cell_type": "code",
   "execution_count": 1,
   "id": "24093a5b",
   "metadata": {},
   "outputs": [],
   "source": [
    "from qiskit.circuit.library import RealAmplitudes"
   ]
  },
  {
   "cell_type": "code",
   "execution_count": 2,
   "id": "88c30857",
   "metadata": {},
   "outputs": [],
   "source": [
    "from qiskit import QuantumCircuit, transpile"
   ]
  },
  {
   "cell_type": "code",
   "execution_count": 3,
   "id": "ca29e407",
   "metadata": {},
   "outputs": [],
   "source": [
    "from qiskit.providers.aer import QasmSimulator\n",
    "from qiskit.circuit.library import ZZFeatureMap, ZFeatureMap, PauliFeatureMap\n",
    "import numpy as np"
   ]
  },
  {
   "cell_type": "code",
   "execution_count": 4,
   "id": "8a7fb1c9",
   "metadata": {},
   "outputs": [],
   "source": [
    "from sklearn import datasets"
   ]
  },
  {
   "cell_type": "code",
   "execution_count": 158,
   "id": "03838857",
   "metadata": {},
   "outputs": [],
   "source": [
    "digits = datasets.load_digits()"
   ]
  },
  {
   "cell_type": "code",
   "execution_count": 159,
   "id": "b2088d9a",
   "metadata": {},
   "outputs": [
    {
     "data": {
      "text/plain": [
       "array([[ 0.,  0.,  5., ...,  0.,  0.,  0.],\n",
       "       [ 0.,  0.,  0., ..., 10.,  0.,  0.],\n",
       "       [ 0.,  0.,  0., ..., 16.,  9.,  0.],\n",
       "       ...,\n",
       "       [ 0.,  0.,  1., ...,  6.,  0.,  0.],\n",
       "       [ 0.,  0.,  2., ..., 12.,  0.,  0.],\n",
       "       [ 0.,  0., 10., ..., 12.,  1.,  0.]])"
      ]
     },
     "execution_count": 159,
     "metadata": {},
     "output_type": "execute_result"
    }
   ],
   "source": [
    "digits['data']"
   ]
  },
  {
   "cell_type": "code",
   "execution_count": 160,
   "id": "7a9904f0",
   "metadata": {},
   "outputs": [],
   "source": [
    "zeros_data=digits['data'][digits['target'].argsort()][0:100]"
   ]
  },
  {
   "cell_type": "code",
   "execution_count": 161,
   "id": "92ad498c",
   "metadata": {},
   "outputs": [],
   "source": [
    "ones_data=digits['data'][digits['target'].argsort()][177+1:177+101]"
   ]
  },
  {
   "cell_type": "code",
   "execution_count": 162,
   "id": "badb8bdd",
   "metadata": {},
   "outputs": [],
   "source": [
    "zeros_label=digits['target'][digits['target'].argsort()][0:100]"
   ]
  },
  {
   "cell_type": "code",
   "execution_count": 163,
   "id": "c27365f3",
   "metadata": {},
   "outputs": [],
   "source": [
    "ones_label=digits['target'][digits['target'].argsort()][177+1:177+101]"
   ]
  },
  {
   "cell_type": "code",
   "execution_count": 164,
   "id": "f4ae84bf",
   "metadata": {},
   "outputs": [],
   "source": [
    "data=np.vstack((zeros_data,ones_data))"
   ]
  },
  {
   "cell_type": "code",
   "execution_count": 165,
   "id": "b490ffa4",
   "metadata": {},
   "outputs": [],
   "source": [
    "label=np.hstack((zeros_label,ones_label))"
   ]
  },
  {
   "cell_type": "code",
   "execution_count": 166,
   "id": "f5261205",
   "metadata": {},
   "outputs": [
    {
     "data": {
      "text/plain": [
       "(200,)"
      ]
     },
     "execution_count": 166,
     "metadata": {},
     "output_type": "execute_result"
    }
   ],
   "source": [
    "label.shape"
   ]
  },
  {
   "cell_type": "code",
   "execution_count": 167,
   "id": "bb3f077b",
   "metadata": {},
   "outputs": [],
   "source": [
    "zeros_data_test=digits['data'][digits['target'].argsort()][100:110]\n",
    "ones_data_test=digits['data'][digits['target'].argsort()][177+101:177+111]\n",
    "zeros_label_test=digits['target'][digits['target'].argsort()][100:110]\n",
    "ones_label_test=digits['target'][digits['target'].argsort()][177+101:177+111]\n",
    "data_test=np.vstack((zeros_data_test,ones_data_test))\n",
    "label_test=np.hstack((zeros_label_test,ones_label_test))"
   ]
  },
  {
   "cell_type": "code",
   "execution_count": 168,
   "id": "136117b1",
   "metadata": {},
   "outputs": [],
   "source": [
    "from sklearn.manifold import TSNE\n",
    "from sklearn.decomposition import TruncatedSVD"
   ]
  },
  {
   "cell_type": "code",
   "execution_count": 169,
   "id": "e2831cb8",
   "metadata": {},
   "outputs": [],
   "source": [
    "tsvd = TruncatedSVD(n_components=2)\n",
    "data = tsvd.fit_transform(data)"
   ]
  },
  {
   "cell_type": "code",
   "execution_count": 170,
   "id": "fbf6bce4",
   "metadata": {},
   "outputs": [],
   "source": [
    "tsvd = TruncatedSVD(n_components=2)\n",
    "data_test = tsvd.fit_transform(data_test)"
   ]
  },
  {
   "cell_type": "code",
   "execution_count": 171,
   "id": "651cd2c7",
   "metadata": {},
   "outputs": [],
   "source": [
    "data=data/np.abs(data).max()"
   ]
  },
  {
   "cell_type": "code",
   "execution_count": 172,
   "id": "611464ec",
   "metadata": {},
   "outputs": [],
   "source": [
    "data_test=data_test/np.abs(data_test).max()"
   ]
  },
  {
   "cell_type": "code",
   "execution_count": 20,
   "id": "f70149ce",
   "metadata": {},
   "outputs": [],
   "source": [
    "def Merge(dict1, dict2): \n",
    "    res = {**dict1, **dict2} \n",
    "    return res "
   ]
  },
  {
   "cell_type": "code",
   "execution_count": 21,
   "id": "acadd857",
   "metadata": {},
   "outputs": [],
   "source": [
    "def bce(predict,label):\n",
    "    return -(label*np.log(predict)+(1-label)*np.log(1-predict))"
   ]
  },
  {
   "cell_type": "code",
   "execution_count": 22,
   "id": "66709ec5",
   "metadata": {},
   "outputs": [],
   "source": [
    "feature_dim = 2\n",
    "pauli_feature_map = PauliFeatureMap(feature_dimension=feature_dim, reps=1, paulis = ['Z','X','ZY']).decompose()"
   ]
  },
  {
   "cell_type": "code",
   "execution_count": 23,
   "id": "fc299017",
   "metadata": {},
   "outputs": [
    {
     "data": {
      "image/png": "[encoded data removed]",
      "text/plain": [
       "<Figure size 1123.41x200.667 with 1 Axes>"
      ]
     },
     "execution_count": 23,
     "metadata": {},
     "output_type": "execute_result"
    }
   ],
   "source": [
    "pauli_feature_map.draw(output=\"mpl\")"
   ]
  },
  {
   "cell_type": "code",
   "execution_count": 24,
   "id": "c4e72315",
   "metadata": {},
   "outputs": [],
   "source": [
    "ansatz=RealAmplitudes(num_qubits=2,reps=1,entanglement=\"linear\").decompose()"
   ]
  },
  {
   "cell_type": "code",
   "execution_count": 25,
   "id": "f62769c4",
   "metadata": {},
   "outputs": [
    {
     "data": {
      "image/png": "[encoded data removed]",
      "text/plain": [
       "<Figure size 370.906x200.667 with 1 Axes>"
      ]
     },
     "execution_count": 25,
     "metadata": {},
     "output_type": "execute_result"
    }
   ],
   "source": [
    "ansatz.draw(output='mpl')"
   ]
  },
  {
   "cell_type": "code",
   "execution_count": 26,
   "id": "898b477f",
   "metadata": {},
   "outputs": [],
   "source": [
    "circuit = QuantumCircuit(2, 2)"
   ]
  },
  {
   "cell_type": "code",
   "execution_count": 27,
   "id": "9954a852",
   "metadata": {},
   "outputs": [],
   "source": [
    "circuit = circuit.compose(pauli_feature_map,[0,1])"
   ]
  },
  {
   "cell_type": "code",
   "execution_count": 28,
   "id": "f27df9a8",
   "metadata": {},
   "outputs": [],
   "source": [
    "circuit = circuit.compose(ansatz,[0,1])"
   ]
  },
  {
   "cell_type": "code",
   "execution_count": 29,
   "id": "f3fe06ab",
   "metadata": {},
   "outputs": [
    {
     "data": {
      "text/plain": [
       "<qiskit.circuit.instructionset.InstructionSet at 0x1ec75d671f0>"
      ]
     },
     "execution_count": 29,
     "metadata": {},
     "output_type": "execute_result"
    }
   ],
   "source": [
    "circuit.measure([0,1],[0,1])"
   ]
  },
  {
   "cell_type": "code",
   "execution_count": 30,
   "id": "936900b1",
   "metadata": {},
   "outputs": [
    {
     "data": {
      "image/png": "[encoded data removed]",
      "text/plain": [
       "<Figure size 1541.46x284.278 with 1 Axes>"
      ]
     },
     "execution_count": 30,
     "metadata": {},
     "output_type": "execute_result"
    }
   ],
   "source": [
    "circuit.draw(output='mpl')"
   ]
  },
  {
   "cell_type": "code",
   "execution_count": 55,
   "id": "1586a406",
   "metadata": {},
   "outputs": [],
   "source": [
    "def get_output(circuit,x,para):\n",
    "    value_dict_1 = dict(zip(pauli_feature_map.parameters,x))\n",
    "    value_dict_2 = dict(zip(ansatz.parameters,para))\n",
    "    value_dict=Merge(value_dict_1, value_dict_2)\n",
    "    new_cq=circuit.assign_parameters(value_dict, inplace=False)\n",
    "    simulator = QasmSimulator()\n",
    "    compiled_circuit = transpile(new_cq, simulator)\n",
    "    job = simulator.run(compiled_circuit, shots=1000)\n",
    "    result = job.result()\n",
    "    counts = result.get_counts(compiled_circuit)\n",
    "    distribution=[0,0]\n",
    "    for key in counts.keys():\n",
    "        if key == \"00\" and \"11\":\n",
    "            distribution[0]=distribution[0]+counts[key]\n",
    "        else:\n",
    "            distribution[1]=distribution[1]+counts[key]\n",
    "    predict = distribution[0]/(distribution[0]+distribution[1])\n",
    "    return predict"
   ]
  },
  {
   "cell_type": "code",
   "execution_count": 56,
   "id": "d2493b58",
   "metadata": {},
   "outputs": [],
   "source": [
    "def get_loss(circuit,x,para,y):\n",
    "    output=get_output(circuit,x,para)\n",
    "    return np.abs(output-y)"
   ]
  },
  {
   "cell_type": "code",
   "execution_count": 57,
   "id": "c66344b3",
   "metadata": {},
   "outputs": [],
   "source": [
    "def gradient_calculate(circuit,x,para,y,index,eps=np.pi/2):\n",
    "    e_i = np.identity(para.size)[:,index]\n",
    "    plus = para + eps*e_i\n",
    "    minus = para - eps*e_i\n",
    "    gradient = (get_loss(circuit,x,plus,y)-get_loss(circuit,x,minus,y))/2\n",
    "    return gradient"
   ]
  },
  {
   "cell_type": "code",
   "execution_count": 58,
   "id": "5a5b5854",
   "metadata": {},
   "outputs": [],
   "source": [
    "def gradient_decent(circuit,x,para,y):\n",
    "    para_new = np.copy(para)\n",
    "    for index in range(len(para)): \n",
    "        gradient = gradient_calculate(circuit,x,para,y,index)\n",
    "        para_new[index] = para[index] - 0.1*gradient\n",
    "    return para_new"
   ]
  },
  {
   "cell_type": "code",
   "execution_count": 59,
   "id": "d3f9a2bf",
   "metadata": {},
   "outputs": [],
   "source": [
    "para = np.random.random(ansatz.num_parameters)"
   ]
  },
  {
   "cell_type": "code",
   "execution_count": 60,
   "id": "24cc2c8d",
   "metadata": {},
   "outputs": [
    {
     "data": {
      "text/plain": [
       "array([0.37987237, 0.90804455, 0.53014987, 0.75045538])"
      ]
     },
     "execution_count": 60,
     "metadata": {},
     "output_type": "execute_result"
    }
   ],
   "source": [
    "para"
   ]
  },
  {
   "cell_type": "code",
   "execution_count": 61,
   "id": "b8a51141",
   "metadata": {},
   "outputs": [
    {
     "data": {
      "text/plain": [
       "0.096"
      ]
     },
     "execution_count": 61,
     "metadata": {},
     "output_type": "execute_result"
    }
   ],
   "source": [
    "get_loss(circuit,data[0],para,label[0])"
   ]
  },
  {
   "cell_type": "code",
   "execution_count": 62,
   "id": "5c6c3d55",
   "metadata": {},
   "outputs": [],
   "source": [
    "para_new=gradient_decent(circuit,data[0],para,label[0])"
   ]
  },
  {
   "cell_type": "code",
   "execution_count": 63,
   "id": "db804a0d",
   "metadata": {},
   "outputs": [
    {
     "data": {
      "text/plain": [
       "0.112"
      ]
     },
     "execution_count": 63,
     "metadata": {},
     "output_type": "execute_result"
    }
   ],
   "source": [
    "get_loss(circuit,data[0],para_new,label[0])"
   ]
  },
  {
   "cell_type": "code",
   "execution_count": 86,
   "id": "19d4d441",
   "metadata": {},
   "outputs": [],
   "source": [
    "para_new=gradient_decent(circuit,data[0],para_new,label[0])"
   ]
  },
  {
   "cell_type": "code",
   "execution_count": 87,
   "id": "74ddeb6f",
   "metadata": {},
   "outputs": [
    {
     "data": {
      "text/plain": [
       "0.07"
      ]
     },
     "execution_count": 87,
     "metadata": {},
     "output_type": "execute_result"
    }
   ],
   "source": [
    "get_loss(circuit,data[0],para_new,label[0])"
   ]
  },
  {
   "cell_type": "markdown",
   "id": "0d812088",
   "metadata": {},
   "source": [
    "data=[[0,0],[1,1],[2,2],[3,3],[4,4],[5,5]]\n",
    "label=[0,0,0,1,1,1]\n",
    "label=np.array(label)"
   ]
  },
  {
   "cell_type": "code",
   "execution_count": 173,
   "id": "fcbdbbc6",
   "metadata": {},
   "outputs": [],
   "source": [
    "para = np.random.random(ansatz.num_parameters)"
   ]
  },
  {
   "cell_type": "code",
   "execution_count": 174,
   "id": "5978524a",
   "metadata": {},
   "outputs": [
    {
     "name": "stdout",
     "output_type": "stream",
     "text": [
      "0.9\n",
      "0.9\n",
      "0.95\n",
      "0.9\n",
      "0.9\n"
     ]
    }
   ],
   "source": [
    "for i in range(5):\n",
    "    for j in range(len(label)):\n",
    "        x=data[j]\n",
    "        y=label[j]\n",
    "        para=gradient_decent(circuit,x,para,y)\n",
    "    predicts=[]   \n",
    "    for j in range(len(label_test)):\n",
    "        x=data_test[j]\n",
    "        y=label_test[j]\n",
    "        predict = get_output(circuit,x,para)\n",
    "        if predict<0.5:\n",
    "            predicts.append(0)\n",
    "        else:\n",
    "            predicts.append(1)\n",
    "    predicts=np.array(predicts)\n",
    "    #loss=np.abs((predicts-label)).mean()\n",
    "    #print(loss)\n",
    "    print((predicts==label_test).sum()/len(predicts))"
   ]
  },
  {
   "cell_type": "code",
   "execution_count": 180,
   "id": "ec8919cb",
   "metadata": {},
   "outputs": [
    {
     "name": "stderr",
     "output_type": "stream",
     "text": [
      "C:\\Users\\scy\\AppData\\Local\\Temp\\ipykernel_20620\\2526041012.py:11: UserWarning: No contour levels were found within the data range.\n",
      "  plt.contour(xx, yy, Z, levels=[0.0], colors=(\"black\",), linestyles=(\"--\",), linewidths=(0.8,))\n"
     ]
    },
    {
     "data": {
      "image/png": "[encoded data removed]",
      "text/plain": [
       "<Figure size 640x480 with 2 Axes>"
      ]
     },
     "metadata": {},
     "output_type": "display_data"
    }
   ],
   "source": [
    "import matplotlib.pyplot as plt\n",
    "plt.figure()\n",
    "cm = plt.cm.RdBu\n",
    "\n",
    "# make data for decision regions\n",
    "xx, yy = np.meshgrid(np.linspace(0.5, 1, 20), np.linspace(-0.5, 0.5, 20))\n",
    "X_grid = [np.array([x, y]) for x, y in zip(xx.flatten(), yy.flatten())]\n",
    "predictions_grid = [get_output(circuit, f ,para) for f in X_grid]\n",
    "Z = np.reshape(predictions_grid, xx.shape)\n",
    "cnt = plt.contourf(xx, yy, Z, levels=np.arange(0, 1.1, 0.1), cmap=cm, alpha=0.8, extend=\"both\")\n",
    "plt.contour(xx, yy, Z, levels=[0.0], colors=(\"black\",), linestyles=(\"--\",), linewidths=(0.8,))\n",
    "plt.colorbar(cnt, ticks=[0, 0, 1])\n",
    "\n",
    "\n",
    "# plot data\n",
    "\n",
    "plt.scatter(\n",
    "    data_test[:, 0][label_test == 1],\n",
    "    data_test[:, 1][label_test == 1],\n",
    "    c=\"b\",\n",
    "    marker=\"^\",\n",
    "    edgecolors=\"k\",\n",
    "    label=\"class 1 validation\",\n",
    ")\n",
    "\n",
    "plt.scatter(\n",
    "    data_test[:, 0][label_test == 0],\n",
    "    data_test[:, 1][label_test == 0],\n",
    "    c=\"r\",\n",
    "    marker=\"^\",\n",
    "    edgecolors=\"k\",\n",
    "    label=\"class 0 validation\",\n",
    ")\n",
    "\n",
    "plt.legend()\n",
    "plt.show()"
   ]
  },
  {
   "cell_type": "code",
   "execution_count": null,
   "id": "d14eb4eb",
   "metadata": {},
   "outputs": [],
   "source": []
  }
 ],
 "metadata": {
  "kernelspec": {
   "display_name": "Python 3 (ipykernel)",
   "language": "python",
   "name": "python3"
  },
  "language_info": {
   "codemirror_mode": {
    "name": "ipython",
    "version": 3
   },
   "file_extension": ".py",
   "mimetype": "text/x-python",
   "name": "python",
   "nbconvert_exporter": "python",
   "pygments_lexer": "ipython3",
   "version": "3.9.0"
  }
 },
 "nbformat": 4,
 "nbformat_minor": 5
}
