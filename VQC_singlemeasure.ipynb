{
 "cells": [
  {
   "cell_type": "code",
   "execution_count": 1,
   "id": "24093a5b",
   "metadata": {},
   "outputs": [],
   "source": [
    "from qiskit.circuit.library import RealAmplitudes"
   ]
  },
  {
   "cell_type": "code",
   "execution_count": 2,
   "id": "88c30857",
   "metadata": {},
   "outputs": [],
   "source": [
    "from qiskit import QuantumCircuit, transpile"
   ]
  },
  {
   "cell_type": "code",
   "execution_count": 3,
   "id": "ca29e407",
   "metadata": {},
   "outputs": [],
   "source": [
    "from qiskit.providers.aer import QasmSimulator\n",
    "from qiskit.circuit.library import ZZFeatureMap, ZFeatureMap, PauliFeatureMap\n",
    "import numpy as np"
   ]
  },
  {
   "cell_type": "code",
   "execution_count": 231,
   "id": "8a7fb1c9",
   "metadata": {},
   "outputs": [],
   "source": [
    "from sklearn import datasets"
   ]
  },
  {
   "cell_type": "code",
   "execution_count": 1156,
   "id": "03838857",
   "metadata": {},
   "outputs": [],
   "source": [
    "digits = datasets.load_digits()"
   ]
  },
  {
   "cell_type": "code",
   "execution_count": 1157,
   "id": "b2088d9a",
   "metadata": {},
   "outputs": [
    {
     "data": {
      "text/plain": [
       "array([[ 0.,  0.,  5., ...,  0.,  0.,  0.],\n",
       "       [ 0.,  0.,  0., ..., 10.,  0.,  0.],\n",
       "       [ 0.,  0.,  0., ..., 16.,  9.,  0.],\n",
       "       ...,\n",
       "       [ 0.,  0.,  1., ...,  6.,  0.,  0.],\n",
       "       [ 0.,  0.,  2., ..., 12.,  0.,  0.],\n",
       "       [ 0.,  0., 10., ..., 12.,  1.,  0.]])"
      ]
     },
     "execution_count": 1157,
     "metadata": {},
     "output_type": "execute_result"
    }
   ],
   "source": [
    "digits['data']"
   ]
  },
  {
   "cell_type": "code",
   "execution_count": 1158,
   "id": "7a9904f0",
   "metadata": {},
   "outputs": [],
   "source": [
    "zeros_data=digits['data'][digits['target'].argsort()][0:100]"
   ]
  },
  {
   "cell_type": "code",
   "execution_count": 1159,
   "id": "92ad498c",
   "metadata": {},
   "outputs": [],
   "source": [
    "ones_data=digits['data'][digits['target'].argsort()][177+1:177+101]"
   ]
  },
  {
   "cell_type": "code",
   "execution_count": 1160,
   "id": "badb8bdd",
   "metadata": {},
   "outputs": [],
   "source": [
    "zeros_label=digits['target'][digits['target'].argsort()][0:100]"
   ]
  },
  {
   "cell_type": "code",
   "execution_count": 1161,
   "id": "c27365f3",
   "metadata": {},
   "outputs": [],
   "source": [
    "ones_label=digits['target'][digits['target'].argsort()][177+1:177+101]"
   ]
  },
  {
   "cell_type": "code",
   "execution_count": 1162,
   "id": "f4ae84bf",
   "metadata": {},
   "outputs": [],
   "source": [
    "data=np.vstack((zeros_data,ones_data))"
   ]
  },
  {
   "cell_type": "code",
   "execution_count": 1163,
   "id": "b490ffa4",
   "metadata": {},
   "outputs": [],
   "source": [
    "label=np.hstack((zeros_label,ones_label))"
   ]
  },
  {
   "cell_type": "code",
   "execution_count": 1164,
   "id": "f5261205",
   "metadata": {},
   "outputs": [
    {
     "data": {
      "text/plain": [
       "(200,)"
      ]
     },
     "execution_count": 1164,
     "metadata": {},
     "output_type": "execute_result"
    }
   ],
   "source": [
    "label.shape"
   ]
  },
  {
   "cell_type": "code",
   "execution_count": 1165,
   "id": "bb3f077b",
   "metadata": {},
   "outputs": [],
   "source": [
    "zeros_data_test=digits['data'][digits['target'].argsort()][100:110]\n",
    "ones_data_test=digits['data'][digits['target'].argsort()][177+101:177+111]\n",
    "zeros_label_test=digits['target'][digits['target'].argsort()][100:110]\n",
    "ones_label_test=digits['target'][digits['target'].argsort()][177+101:177+111]\n",
    "data_test=np.vstack((zeros_data_test,ones_data_test))\n",
    "label_test=np.hstack((zeros_label_test,ones_label_test))"
   ]
  },
  {
   "cell_type": "code",
   "execution_count": 1166,
   "id": "136117b1",
   "metadata": {},
   "outputs": [],
   "source": [
    "from sklearn.manifold import TSNE\n",
    "from sklearn.decomposition import TruncatedSVD"
   ]
  },
  {
   "cell_type": "code",
   "execution_count": 1167,
   "id": "e2831cb8",
   "metadata": {},
   "outputs": [],
   "source": [
    "tsvd = TruncatedSVD(n_components=2)\n",
    "data = tsvd.fit_transform(data)"
   ]
  },
  {
   "cell_type": "code",
   "execution_count": 1168,
   "id": "fbf6bce4",
   "metadata": {},
   "outputs": [],
   "source": [
    "tsvd = TruncatedSVD(n_components=2)\n",
    "data_test = tsvd.fit_transform(data_test)"
   ]
  },
  {
   "cell_type": "code",
   "execution_count": 1169,
   "id": "651cd2c7",
   "metadata": {},
   "outputs": [],
   "source": [
    "data=data/data.max()"
   ]
  },
  {
   "cell_type": "code",
   "execution_count": 1170,
   "id": "611464ec",
   "metadata": {},
   "outputs": [],
   "source": [
    "data_test=data_test/data_test.max()"
   ]
  },
  {
   "cell_type": "code",
   "execution_count": 4,
   "id": "f70149ce",
   "metadata": {},
   "outputs": [],
   "source": [
    "def Merge(dict1, dict2): \n",
    "    res = {**dict1, **dict2} \n",
    "    return res "
   ]
  },
  {
   "cell_type": "code",
   "execution_count": 5,
   "id": "acadd857",
   "metadata": {},
   "outputs": [],
   "source": [
    "def bce(predict,label):\n",
    "    return -(label*np.log(predict)+(1-label)*np.log(1-predict))"
   ]
  },
  {
   "cell_type": "code",
   "execution_count": 748,
   "id": "66709ec5",
   "metadata": {},
   "outputs": [],
   "source": [
    "feature_dim = 2\n",
    "pauli_feature_map = PauliFeatureMap(feature_dimension=feature_dim, reps=1, paulis = ['Z','X','ZY']).decompose()"
   ]
  },
  {
   "cell_type": "code",
   "execution_count": 749,
   "id": "fc299017",
   "metadata": {},
   "outputs": [
    {
     "data": {
      "image/png": "[encoded data removed]",
      "text/plain": [
       "<Figure size 1123.41x200.667 with 1 Axes>"
      ]
     },
     "execution_count": 749,
     "metadata": {},
     "output_type": "execute_result"
    }
   ],
   "source": [
    "pauli_feature_map.draw(output=\"mpl\")"
   ]
  },
  {
   "cell_type": "code",
   "execution_count": 750,
   "id": "c4e72315",
   "metadata": {},
   "outputs": [],
   "source": [
    "ansatz=RealAmplitudes(num_qubits=2,reps=1,entanglement=\"linear\").decompose()"
   ]
  },
  {
   "cell_type": "code",
   "execution_count": 751,
   "id": "f62769c4",
   "metadata": {},
   "outputs": [
    {
     "data": {
      "image/png": "[encoded data removed]",
      "text/plain": [
       "<Figure size 370.906x200.667 with 1 Axes>"
      ]
     },
     "execution_count": 751,
     "metadata": {},
     "output_type": "execute_result"
    }
   ],
   "source": [
    "ansatz.draw(output='mpl')"
   ]
  },
  {
   "cell_type": "code",
   "execution_count": 752,
   "id": "898b477f",
   "metadata": {},
   "outputs": [],
   "source": [
    "circuit = QuantumCircuit(2, 1)"
   ]
  },
  {
   "cell_type": "code",
   "execution_count": 753,
   "id": "9954a852",
   "metadata": {},
   "outputs": [],
   "source": [
    "circuit = circuit.compose(pauli_feature_map,[0,1])"
   ]
  },
  {
   "cell_type": "code",
   "execution_count": 754,
   "id": "f27df9a8",
   "metadata": {},
   "outputs": [],
   "source": [
    "circuit = circuit.compose(ansatz,[0,1])"
   ]
  },
  {
   "cell_type": "code",
   "execution_count": 755,
   "id": "f3fe06ab",
   "metadata": {},
   "outputs": [
    {
     "data": {
      "text/plain": [
       "<qiskit.circuit.instructionset.InstructionSet at 0x231fdcf2cd0>"
      ]
     },
     "execution_count": 755,
     "metadata": {},
     "output_type": "execute_result"
    }
   ],
   "source": [
    "circuit.measure([0],[0])"
   ]
  },
  {
   "cell_type": "code",
   "execution_count": 756,
   "id": "936900b1",
   "metadata": {},
   "outputs": [
    {
     "data": {
      "image/png": "[encoded data removed]",
      "text/plain": [
       "<Figure size 1457.85x284.278 with 1 Axes>"
      ]
     },
     "execution_count": 756,
     "metadata": {},
     "output_type": "execute_result"
    }
   ],
   "source": [
    "circuit.draw(output='mpl')"
   ]
  },
  {
   "cell_type": "code",
   "execution_count": 925,
   "id": "1586a406",
   "metadata": {},
   "outputs": [],
   "source": [
    "def get_output(circuit,x,para):\n",
    "    value_dict_1 = dict(zip(pauli_feature_map.parameters,x))\n",
    "    value_dict_2 = dict(zip(ansatz.parameters,para))\n",
    "    value_dict=Merge(value_dict_1, value_dict_2)\n",
    "    new_cq=circuit.assign_parameters(value_dict, inplace=False)\n",
    "    simulator = QasmSimulator()\n",
    "    compiled_circuit = transpile(new_cq, simulator)\n",
    "    job = simulator.run(compiled_circuit, shots=1000)\n",
    "    result = job.result()\n",
    "    counts = result.get_counts(compiled_circuit)\n",
    "    keys = list(counts.keys())\n",
    "    if len(counts)==1:\n",
    "        if keys[0]=='1':\n",
    "            return 1\n",
    "        if keys[0]=='0':\n",
    "            return 0\n",
    "    else:\n",
    "        predict = counts['1']/(counts['1']+counts['0'])\n",
    "        return predict"
   ]
  },
  {
   "cell_type": "code",
   "execution_count": 926,
   "id": "d2493b58",
   "metadata": {},
   "outputs": [],
   "source": [
    "def get_loss(circuit,x,para,y):\n",
    "    output=get_output(circuit,x,para)\n",
    "    return np.abs(output-y)"
   ]
  },
  {
   "cell_type": "code",
   "execution_count": 997,
   "id": "c66344b3",
   "metadata": {},
   "outputs": [],
   "source": [
    "def gradient_calculate(circuit,x,para,y,index,eps=np.pi/2):\n",
    "    e_i = np.identity(para.size)[:,index]\n",
    "    plus = para + eps*e_i\n",
    "    minus = para - eps*e_i\n",
    "    gradient = (get_loss(circuit,x,plus,y)-get_loss(circuit,x,minus,y))/2\n",
    "    return gradient"
   ]
  },
  {
   "cell_type": "code",
   "execution_count": 1135,
   "id": "5a5b5854",
   "metadata": {},
   "outputs": [],
   "source": [
    "def gradient_decent(circuit,x,para,y):\n",
    "    para_new = np.copy(para)\n",
    "    for index in range(len(para)): \n",
    "        gradient = gradient_calculate(circuit,x,para,y,index)\n",
    "        para_new[index] = para[index] - 0.1*gradient\n",
    "    return para_new"
   ]
  },
  {
   "cell_type": "code",
   "execution_count": 1132,
   "id": "d3f9a2bf",
   "metadata": {},
   "outputs": [],
   "source": [
    "para = np.random.random(ansatz.num_parameters)"
   ]
  },
  {
   "cell_type": "code",
   "execution_count": 1133,
   "id": "24cc2c8d",
   "metadata": {},
   "outputs": [
    {
     "data": {
      "text/plain": [
       "array([0.12749859, 0.74726459, 0.14879192, 0.29729374])"
      ]
     },
     "execution_count": 1133,
     "metadata": {},
     "output_type": "execute_result"
    }
   ],
   "source": [
    "para"
   ]
  },
  {
   "cell_type": "code",
   "execution_count": 1134,
   "id": "b8a51141",
   "metadata": {},
   "outputs": [
    {
     "data": {
      "text/plain": [
       "0.587"
      ]
     },
     "execution_count": 1134,
     "metadata": {},
     "output_type": "execute_result"
    }
   ],
   "source": [
    "get_loss(circuit,data[0],para,label[0])"
   ]
  },
  {
   "cell_type": "code",
   "execution_count": 1002,
   "id": "5c6c3d55",
   "metadata": {},
   "outputs": [],
   "source": [
    "para_new=gradient_decent(circuit,data[0],para,label[0])"
   ]
  },
  {
   "cell_type": "code",
   "execution_count": 1003,
   "id": "db804a0d",
   "metadata": {},
   "outputs": [
    {
     "data": {
      "text/plain": [
       "0.22799999999999998"
      ]
     },
     "execution_count": 1003,
     "metadata": {},
     "output_type": "execute_result"
    }
   ],
   "source": [
    "get_loss(circuit,data[0],para_new,label[0])"
   ]
  },
  {
   "cell_type": "code",
   "execution_count": 1020,
   "id": "19d4d441",
   "metadata": {},
   "outputs": [],
   "source": [
    "para_new=gradient_decent(circuit,data[0],para_new,label[0])"
   ]
  },
  {
   "cell_type": "code",
   "execution_count": 1021,
   "id": "74ddeb6f",
   "metadata": {},
   "outputs": [
    {
     "data": {
      "text/plain": [
       "0.010000000000000009"
      ]
     },
     "execution_count": 1021,
     "metadata": {},
     "output_type": "execute_result"
    }
   ],
   "source": [
    "get_loss(circuit,data[0],para_new,label[0])"
   ]
  },
  {
   "cell_type": "markdown",
   "id": "0d812088",
   "metadata": {},
   "source": [
    "data=[[0,0],[1,1],[2,2],[3,3],[4,4],[5,5]]\n",
    "label=[0,0,0,1,1,1]\n",
    "label=np.array(label)"
   ]
  },
  {
   "cell_type": "code",
   "execution_count": 1148,
   "id": "fcbdbbc6",
   "metadata": {},
   "outputs": [],
   "source": [
    "para = np.random.random(ansatz.num_parameters)"
   ]
  },
  {
   "cell_type": "code",
   "execution_count": 1172,
   "id": "5978524a",
   "metadata": {},
   "outputs": [
    {
     "name": "stdout",
     "output_type": "stream",
     "text": [
      "0.95\n",
      "0.95\n",
      "0.95\n",
      "0.95\n"
     ]
    },
    {
     "ename": "KeyboardInterrupt",
     "evalue": "",
     "output_type": "error",
     "traceback": [
      "\u001b[1;31m---------------------------------------------------------------------------\u001b[0m",
      "\u001b[1;31mKeyboardInterrupt\u001b[0m                         Traceback (most recent call last)",
      "Cell \u001b[1;32mIn[1172], line 5\u001b[0m\n\u001b[0;32m      3\u001b[0m     x\u001b[38;5;241m=\u001b[39mdata[j]\n\u001b[0;32m      4\u001b[0m     y\u001b[38;5;241m=\u001b[39mlabel[j]\n\u001b[1;32m----> 5\u001b[0m     para\u001b[38;5;241m=\u001b[39m\u001b[43mgradient_decent\u001b[49m\u001b[43m(\u001b[49m\u001b[43mcircuit\u001b[49m\u001b[43m,\u001b[49m\u001b[43mx\u001b[49m\u001b[43m,\u001b[49m\u001b[43mpara\u001b[49m\u001b[43m,\u001b[49m\u001b[43my\u001b[49m\u001b[43m)\u001b[49m\n\u001b[0;32m      6\u001b[0m predicts\u001b[38;5;241m=\u001b[39m[]   \n\u001b[0;32m      7\u001b[0m \u001b[38;5;28;01mfor\u001b[39;00m j \u001b[38;5;129;01min\u001b[39;00m \u001b[38;5;28mrange\u001b[39m(\u001b[38;5;28mlen\u001b[39m(label_test)):\n",
      "Cell \u001b[1;32mIn[1135], line 4\u001b[0m, in \u001b[0;36mgradient_decent\u001b[1;34m(circuit, x, para, y)\u001b[0m\n\u001b[0;32m      2\u001b[0m para_new \u001b[38;5;241m=\u001b[39m np\u001b[38;5;241m.\u001b[39mcopy(para)\n\u001b[0;32m      3\u001b[0m \u001b[38;5;28;01mfor\u001b[39;00m index \u001b[38;5;129;01min\u001b[39;00m \u001b[38;5;28mrange\u001b[39m(\u001b[38;5;28mlen\u001b[39m(para)): \n\u001b[1;32m----> 4\u001b[0m     gradient \u001b[38;5;241m=\u001b[39m \u001b[43mgradient_calculate\u001b[49m\u001b[43m(\u001b[49m\u001b[43mcircuit\u001b[49m\u001b[43m,\u001b[49m\u001b[43mx\u001b[49m\u001b[43m,\u001b[49m\u001b[43mpara\u001b[49m\u001b[43m,\u001b[49m\u001b[43my\u001b[49m\u001b[43m,\u001b[49m\u001b[43mindex\u001b[49m\u001b[43m)\u001b[49m\n\u001b[0;32m      5\u001b[0m     para_new[index] \u001b[38;5;241m=\u001b[39m para[index] \u001b[38;5;241m-\u001b[39m \u001b[38;5;241m0.1\u001b[39m\u001b[38;5;241m*\u001b[39mgradient\n\u001b[0;32m      6\u001b[0m \u001b[38;5;28;01mreturn\u001b[39;00m para_new\n",
      "Cell \u001b[1;32mIn[997], line 5\u001b[0m, in \u001b[0;36mgradient_calculate\u001b[1;34m(circuit, x, para, y, index, eps)\u001b[0m\n\u001b[0;32m      3\u001b[0m plus \u001b[38;5;241m=\u001b[39m para \u001b[38;5;241m+\u001b[39m eps\u001b[38;5;241m*\u001b[39me_i\n\u001b[0;32m      4\u001b[0m minus \u001b[38;5;241m=\u001b[39m para \u001b[38;5;241m-\u001b[39m eps\u001b[38;5;241m*\u001b[39me_i\n\u001b[1;32m----> 5\u001b[0m gradient \u001b[38;5;241m=\u001b[39m (get_loss(circuit,x,plus,y)\u001b[38;5;241m-\u001b[39m\u001b[43mget_loss\u001b[49m\u001b[43m(\u001b[49m\u001b[43mcircuit\u001b[49m\u001b[43m,\u001b[49m\u001b[43mx\u001b[49m\u001b[43m,\u001b[49m\u001b[43mminus\u001b[49m\u001b[43m,\u001b[49m\u001b[43my\u001b[49m\u001b[43m)\u001b[49m)\u001b[38;5;241m/\u001b[39m\u001b[38;5;241m2\u001b[39m\n\u001b[0;32m      6\u001b[0m \u001b[38;5;28;01mreturn\u001b[39;00m gradient\n",
      "Cell \u001b[1;32mIn[926], line 2\u001b[0m, in \u001b[0;36mget_loss\u001b[1;34m(circuit, x, para, y)\u001b[0m\n\u001b[0;32m      1\u001b[0m \u001b[38;5;28;01mdef\u001b[39;00m \u001b[38;5;21mget_loss\u001b[39m(circuit,x,para,y):\n\u001b[1;32m----> 2\u001b[0m     output\u001b[38;5;241m=\u001b[39m\u001b[43mget_output\u001b[49m\u001b[43m(\u001b[49m\u001b[43mcircuit\u001b[49m\u001b[43m,\u001b[49m\u001b[43mx\u001b[49m\u001b[43m,\u001b[49m\u001b[43mpara\u001b[49m\u001b[43m)\u001b[49m\n\u001b[0;32m      3\u001b[0m     \u001b[38;5;28;01mreturn\u001b[39;00m np\u001b[38;5;241m.\u001b[39mabs(output\u001b[38;5;241m-\u001b[39my)\n",
      "Cell \u001b[1;32mIn[925], line 9\u001b[0m, in \u001b[0;36mget_output\u001b[1;34m(circuit, x, para)\u001b[0m\n\u001b[0;32m      7\u001b[0m compiled_circuit \u001b[38;5;241m=\u001b[39m transpile(new_cq, simulator)\n\u001b[0;32m      8\u001b[0m job \u001b[38;5;241m=\u001b[39m simulator\u001b[38;5;241m.\u001b[39mrun(compiled_circuit, shots\u001b[38;5;241m=\u001b[39m\u001b[38;5;241m1000\u001b[39m)\n\u001b[1;32m----> 9\u001b[0m result \u001b[38;5;241m=\u001b[39m \u001b[43mjob\u001b[49m\u001b[38;5;241;43m.\u001b[39;49m\u001b[43mresult\u001b[49m\u001b[43m(\u001b[49m\u001b[43m)\u001b[49m\n\u001b[0;32m     10\u001b[0m counts \u001b[38;5;241m=\u001b[39m result\u001b[38;5;241m.\u001b[39mget_counts(compiled_circuit)\n\u001b[0;32m     11\u001b[0m keys \u001b[38;5;241m=\u001b[39m \u001b[38;5;28mlist\u001b[39m(counts\u001b[38;5;241m.\u001b[39mkeys())\n",
      "File \u001b[1;32mE:\\anaconda\\envs\\quantum\\lib\\site-packages\\qiskit_aer\\jobs\\utils.py:41\u001b[0m, in \u001b[0;36mrequires_submit.<locals>._wrapper\u001b[1;34m(self, *args, **kwargs)\u001b[0m\n\u001b[0;32m     39\u001b[0m \u001b[38;5;28;01mif\u001b[39;00m \u001b[38;5;28mself\u001b[39m\u001b[38;5;241m.\u001b[39m_future \u001b[38;5;129;01mis\u001b[39;00m \u001b[38;5;28;01mNone\u001b[39;00m:\n\u001b[0;32m     40\u001b[0m     \u001b[38;5;28;01mraise\u001b[39;00m JobError(\u001b[38;5;124m\"\u001b[39m\u001b[38;5;124mJob not submitted yet!. You have to .submit() first!\u001b[39m\u001b[38;5;124m\"\u001b[39m)\n\u001b[1;32m---> 41\u001b[0m \u001b[38;5;28;01mreturn\u001b[39;00m func(\u001b[38;5;28mself\u001b[39m, \u001b[38;5;241m*\u001b[39margs, \u001b[38;5;241m*\u001b[39m\u001b[38;5;241m*\u001b[39mkwargs)\n",
      "File \u001b[1;32mE:\\anaconda\\envs\\quantum\\lib\\site-packages\\qiskit_aer\\jobs\\aerjob.py:78\u001b[0m, in \u001b[0;36mAerJob.result\u001b[1;34m(self, timeout)\u001b[0m\n\u001b[0;32m     60\u001b[0m \u001b[38;5;129m@requires_submit\u001b[39m\n\u001b[0;32m     61\u001b[0m \u001b[38;5;28;01mdef\u001b[39;00m \u001b[38;5;21mresult\u001b[39m(\u001b[38;5;28mself\u001b[39m, timeout\u001b[38;5;241m=\u001b[39m\u001b[38;5;28;01mNone\u001b[39;00m):\n\u001b[0;32m     62\u001b[0m     \u001b[38;5;66;03m# pylint: disable=arguments-differ\u001b[39;00m\n\u001b[0;32m     63\u001b[0m     \u001b[38;5;124;03m\"\"\"Get job result. The behavior is the same as the underlying\u001b[39;00m\n\u001b[0;32m     64\u001b[0m \u001b[38;5;124;03m    concurrent Future objects,\u001b[39;00m\n\u001b[0;32m     65\u001b[0m \n\u001b[1;32m   (...)\u001b[0m\n\u001b[0;32m     76\u001b[0m \u001b[38;5;124;03m        concurrent.futures.CancelledError: if job cancelled before completed.\u001b[39;00m\n\u001b[0;32m     77\u001b[0m \u001b[38;5;124;03m    \"\"\"\u001b[39;00m\n\u001b[1;32m---> 78\u001b[0m     \u001b[38;5;28;01mreturn\u001b[39;00m \u001b[38;5;28;43mself\u001b[39;49m\u001b[38;5;241;43m.\u001b[39;49m\u001b[43m_future\u001b[49m\u001b[38;5;241;43m.\u001b[39;49m\u001b[43mresult\u001b[49m\u001b[43m(\u001b[49m\u001b[43mtimeout\u001b[49m\u001b[38;5;241;43m=\u001b[39;49m\u001b[43mtimeout\u001b[49m\u001b[43m)\u001b[49m\n",
      "File \u001b[1;32mE:\\anaconda\\envs\\quantum\\lib\\concurrent\\futures\\_base.py:435\u001b[0m, in \u001b[0;36mFuture.result\u001b[1;34m(self, timeout)\u001b[0m\n\u001b[0;32m    432\u001b[0m \u001b[38;5;28;01melif\u001b[39;00m \u001b[38;5;28mself\u001b[39m\u001b[38;5;241m.\u001b[39m_state \u001b[38;5;241m==\u001b[39m FINISHED:\n\u001b[0;32m    433\u001b[0m     \u001b[38;5;28;01mreturn\u001b[39;00m \u001b[38;5;28mself\u001b[39m\u001b[38;5;241m.\u001b[39m__get_result()\n\u001b[1;32m--> 435\u001b[0m \u001b[38;5;28;43mself\u001b[39;49m\u001b[38;5;241;43m.\u001b[39;49m\u001b[43m_condition\u001b[49m\u001b[38;5;241;43m.\u001b[39;49m\u001b[43mwait\u001b[49m\u001b[43m(\u001b[49m\u001b[43mtimeout\u001b[49m\u001b[43m)\u001b[49m\n\u001b[0;32m    437\u001b[0m \u001b[38;5;28;01mif\u001b[39;00m \u001b[38;5;28mself\u001b[39m\u001b[38;5;241m.\u001b[39m_state \u001b[38;5;129;01min\u001b[39;00m [CANCELLED, CANCELLED_AND_NOTIFIED]:\n\u001b[0;32m    438\u001b[0m     \u001b[38;5;28;01mraise\u001b[39;00m CancelledError()\n",
      "File \u001b[1;32mE:\\anaconda\\envs\\quantum\\lib\\threading.py:312\u001b[0m, in \u001b[0;36mCondition.wait\u001b[1;34m(self, timeout)\u001b[0m\n\u001b[0;32m    310\u001b[0m \u001b[38;5;28;01mtry\u001b[39;00m:    \u001b[38;5;66;03m# restore state no matter what (e.g., KeyboardInterrupt)\u001b[39;00m\n\u001b[0;32m    311\u001b[0m     \u001b[38;5;28;01mif\u001b[39;00m timeout \u001b[38;5;129;01mis\u001b[39;00m \u001b[38;5;28;01mNone\u001b[39;00m:\n\u001b[1;32m--> 312\u001b[0m         \u001b[43mwaiter\u001b[49m\u001b[38;5;241;43m.\u001b[39;49m\u001b[43macquire\u001b[49m\u001b[43m(\u001b[49m\u001b[43m)\u001b[49m\n\u001b[0;32m    313\u001b[0m         gotit \u001b[38;5;241m=\u001b[39m \u001b[38;5;28;01mTrue\u001b[39;00m\n\u001b[0;32m    314\u001b[0m     \u001b[38;5;28;01melse\u001b[39;00m:\n",
      "\u001b[1;31mKeyboardInterrupt\u001b[0m: "
     ]
    }
   ],
   "source": [
    "for i in range(5):\n",
    "    for j in range(len(label)):\n",
    "        x=data[j]\n",
    "        y=label[j]\n",
    "        para=gradient_decent(circuit,x,para,y)\n",
    "    predicts=[]   \n",
    "    for j in range(len(label_test)):\n",
    "        x=data_test[j]\n",
    "        y=label_test[j]\n",
    "        predict = get_output(circuit,x,para)\n",
    "        if predict<0.5:\n",
    "            predicts.append(0)\n",
    "        else:\n",
    "            predicts.append(1)\n",
    "    predicts=np.array(predicts)\n",
    "    #loss=np.abs((predicts-label)).mean()\n",
    "    #print(loss)\n",
    "    print((predicts==label_test).sum()/len(predicts))"
   ]
  },
  {
   "cell_type": "code",
   "execution_count": null,
   "id": "ec8919cb",
   "metadata": {},
   "outputs": [],
   "source": []
  }
 ],
 "metadata": {
  "kernelspec": {
   "display_name": "Python 3 (ipykernel)",
   "language": "python",
   "name": "python3"
  },
  "language_info": {
   "codemirror_mode": {
    "name": "ipython",
    "version": 3
   },
   "file_extension": ".py",
   "mimetype": "text/x-python",
   "name": "python",
   "nbconvert_exporter": "python",
   "pygments_lexer": "ipython3",
   "version": "3.9.0"
  }
 },
 "nbformat": 4,
 "nbformat_minor": 5
}
