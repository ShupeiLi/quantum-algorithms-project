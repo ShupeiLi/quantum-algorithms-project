{
 "cells": [
  {
   "cell_type": "code",
   "execution_count": 7,
   "id": "24093a5b",
   "metadata": {},
   "outputs": [],
   "source": [
    "from qiskit.circuit.library import RealAmplitudes\n",
    "from qiskit import QuantumCircuit, transpile\n",
    "from qiskit.providers.aer import QasmSimulator\n",
    "from qiskit.circuit.library import ZZFeatureMap, ZFeatureMap, PauliFeatureMap\n",
    "import numpy as np\n",
    "from sklearn import datasets\n",
    "from qiskit import circuit\n",
    "from sklearn.manifold import TSNE\n",
    "from sklearn.decomposition import TruncatedSVD"
   ]
  },
  {
   "cell_type": "code",
   "execution_count": 8,
   "id": "03838857",
   "metadata": {},
   "outputs": [],
   "source": [
    "digits = datasets.load_digits()\n",
    "zeros_data=digits['data'][digits['target'].argsort()][0:100]\n",
    "ones_data=digits['data'][digits['target'].argsort()][177+1:177+101]\n",
    "zeros_label=digits['target'][digits['target'].argsort()][0:100]\n",
    "ones_label=digits['target'][digits['target'].argsort()][177+1:177+101]\n",
    "data=np.vstack((zeros_data,ones_data))\n",
    "label=np.hstack((zeros_label,ones_label))"
   ]
  },
  {
   "cell_type": "code",
   "execution_count": 9,
   "id": "bb3f077b",
   "metadata": {},
   "outputs": [],
   "source": [
    "zeros_data_test=digits['data'][digits['target'].argsort()][100:110]\n",
    "ones_data_test=digits['data'][digits['target'].argsort()][177+101:177+111]\n",
    "zeros_label_test=digits['target'][digits['target'].argsort()][100:110]\n",
    "ones_label_test=digits['target'][digits['target'].argsort()][177+101:177+111]\n",
    "data_test=np.vstack((zeros_data_test,ones_data_test))\n",
    "label_test=np.hstack((zeros_label_test,ones_label_test))"
   ]
  },
  {
   "cell_type": "code",
   "execution_count": 10,
   "id": "e2831cb8",
   "metadata": {},
   "outputs": [],
   "source": [
    "tsvd = TruncatedSVD(n_components=4)\n",
    "data = tsvd.fit_transform(data)\n",
    "tsvd = TruncatedSVD(n_components=4)\n",
    "data_test = tsvd.fit_transform(data_test)"
   ]
  },
  {
   "cell_type": "code",
   "execution_count": 11,
   "id": "fbf6bce4",
   "metadata": {},
   "outputs": [],
   "source": [
    "data=data/np.abs(data).max()\n",
    "data_test=data_test/np.abs(data_test).max()"
   ]
  },
  {
   "cell_type": "code",
   "execution_count": 12,
   "id": "07aab12d",
   "metadata": {},
   "outputs": [],
   "source": [
    "def Merge(dict1, dict2): \n",
    "    res = {**dict1, **dict2} \n",
    "    return res "
   ]
  },
  {
   "cell_type": "markdown",
   "id": "72955812",
   "metadata": {},
   "source": [
    "feature_map2 = QuantumCircuit(2)\n",
    "x0 = circuit.Parameter(\"x0\")\n",
    "x1 = circuit.Parameter(\"x1\")\n",
    "feature_map2.h([0,1])\n",
    "feature_map2.p(2*x0, 0)\n",
    "feature_map2.p(2*x1, 1)\n",
    "feature_map2.cx(0,1)\n",
    "feature_map2.p(2*(np.pi-x0)*(np.pi-x1),1)\n",
    "feature_map2.draw(output=\"mpl\")"
   ]
  },
  {
   "cell_type": "markdown",
   "id": "b367c50a",
   "metadata": {},
   "source": [
    "pauli_feature_map = feature_map2"
   ]
  },
  {
   "cell_type": "markdown",
   "id": "fb2c14f4",
   "metadata": {},
   "source": [
    "para0 = circuit.Parameter(\"para0\")\n",
    "para1 = circuit.Parameter(\"para1\")\n",
    "para2 = circuit.Parameter(\"para2\")\n",
    "para3 = circuit.Parameter(\"para3\")\n",
    "method = QuantumCircuit(2)\n",
    "method.ry(para0,0)\n",
    "method.ry(para1,1)\n",
    "method.cx(0,1)\n",
    "method.ry(para2,0)\n",
    "method.ry(para3,1)\n",
    "method.draw(output=\"mpl\")"
   ]
  },
  {
   "cell_type": "markdown",
   "id": "89a99ec2",
   "metadata": {},
   "source": [
    "ansatz=method"
   ]
  },
  {
   "cell_type": "markdown",
   "id": "4b299564",
   "metadata": {},
   "source": [
    "cir = QuantumCircuit(2, 2)\n",
    "cir = cir.compose(pauli_feature_map,[0,1])\n",
    "cir = cir.compose(ansatz,[0,1])\n",
    "cir.measure([0,1],[0,1])\n",
    "cir.draw(output='mpl')"
   ]
  },
  {
   "cell_type": "code",
   "execution_count": 13,
   "id": "c3f901c3",
   "metadata": {},
   "outputs": [],
   "source": [
    "x0 = circuit.Parameter(\"x0\")\n",
    "x1 = circuit.Parameter(\"x1\")\n",
    "x2 = circuit.Parameter(\"x2\")\n",
    "x3 = circuit.Parameter(\"x3\")\n",
    "para0 = circuit.Parameter(\"para0\")\n",
    "para1 = circuit.Parameter(\"para1\")\n",
    "para2 = circuit.Parameter(\"para2\")\n",
    "para3 = circuit.Parameter(\"para3\")\n",
    "psi0 = circuit.Parameter(\"psi0\")\n",
    "psi1 = circuit.Parameter(\"psi1\")"
   ]
  },
  {
   "cell_type": "code",
   "execution_count": 78,
   "id": "f61446ba",
   "metadata": {},
   "outputs": [
    {
     "data": {
      "image/png": "[encoded data removed]",
      "text/plain": [
       "<Figure size 1625.07x284.278 with 1 Axes>"
      ]
     },
     "execution_count": 78,
     "metadata": {},
     "output_type": "execute_result"
    }
   ],
   "source": [
    "circ1 = QuantumCircuit(2,2)\n",
    "encode1 = QuantumCircuit(2)\n",
    "encode1.h(0)\n",
    "encode1.h(1)\n",
    "encode1.p(2*x0,0)\n",
    "encode1.p(2*x1,1)\n",
    "encode1.h(0)\n",
    "encode1.h(1)\n",
    "encode1.cx(0,1)\n",
    "encode1.p(2*x0*x1,0)\n",
    "encode1.h(0)\n",
    "encode1.p(2*x0*x2,0)\n",
    "encode1.h(0)\n",
    "encode1.p(2*x0*x3,0)\n",
    "encode1.p(2*(np.pi-x0)*(np.pi-x1),1)\n",
    "encode1.h(1)\n",
    "encode1.p(2*x1*x2,1)\n",
    "encode1.h(1)\n",
    "encode1.p(2*x1*x3,1)\n",
    "vary1 = QuantumCircuit(2)\n",
    "vary1.h(0)\n",
    "vary1.h(1)\n",
    "vary1.ry(para0,0)\n",
    "vary1.ry(para2,1)\n",
    "vary1.cx(0,1)\n",
    "vary1.ry(para1,0)\n",
    "vary1.ry(para3,1)\n",
    "vary1.ry(psi0,0)\n",
    "vary1.ry(psi1,1)\n",
    "circ1 = QuantumCircuit(2,2)\n",
    "circ1 = circ1.compose(encode1,[0,1])\n",
    "circ1 = circ1.compose(vary1,[0,1])\n",
    "circ1.measure([0,1],[0,1])\n",
    "circ1.draw(output='mpl')"
   ]
  },
  {
   "cell_type": "code",
   "execution_count": 79,
   "id": "8f97a327",
   "metadata": {},
   "outputs": [
    {
     "data": {
      "image/png": "[encoded data removed]",
      "text/plain": [
       "<Figure size 1959.52x284.278 with 1 Axes>"
      ]
     },
     "execution_count": 79,
     "metadata": {},
     "output_type": "execute_result"
    }
   ],
   "source": [
    "circ2 = QuantumCircuit(2,2)\n",
    "encode2 = QuantumCircuit(2)\n",
    "encode2.h(0)\n",
    "encode2.h(1)\n",
    "encode2.p(2*x2,0)\n",
    "encode2.p(2*x3,1)\n",
    "encode2.h(0)\n",
    "encode2.h(1)\n",
    "encode2.cx(0,1)\n",
    "encode2.p(2*(np.pi-x0)*(np.pi-x2),0)\n",
    "encode2.h(0)\n",
    "encode2.p(2*(np.pi-x1)*(np.pi-x2),0)\n",
    "encode2.h(0)\n",
    "encode2.p(2*x2*x3,0)\n",
    "encode2.p(2*(np.pi-x0)*(np.pi-x3),1)\n",
    "encode2.h(1)\n",
    "encode2.p(2*(np.pi-x1)*(np.pi-x3),1)\n",
    "encode2.h(1)\n",
    "encode2.p(2*(np.pi-x2)*(np.pi-x3),1)\n",
    "vary2 = QuantumCircuit(2)\n",
    "vary2.h(0)\n",
    "vary2.h(1)\n",
    "vary2.ry(para0,0)\n",
    "vary2.ry(para2,1)\n",
    "vary2.cx(0,1)\n",
    "vary2.ry(para1,0)\n",
    "vary2.ry(para3,1)\n",
    "vary2.ry(psi0,0)\n",
    "vary2.ry(psi1,1)\n",
    "circ2 = QuantumCircuit(2,2)\n",
    "circ2 = circ2.compose(encode2,[0,1])\n",
    "circ2 = circ2.compose(vary2,[0,1])\n",
    "circ2.measure([0,1],[0,1])\n",
    "circ2.draw(output='mpl')"
   ]
  },
  {
   "cell_type": "code",
   "execution_count": 80,
   "id": "1b89fbae",
   "metadata": {},
   "outputs": [],
   "source": [
    "circ=[circ1,circ2]"
   ]
  },
  {
   "cell_type": "code",
   "execution_count": 82,
   "id": "22b8f798",
   "metadata": {},
   "outputs": [
    {
     "data": {
      "text/plain": [
       "ParameterView([Parameter(para0), Parameter(para1), Parameter(para2), Parameter(para3), Parameter(psi0), Parameter(psi1), Parameter(x0), Parameter(x1), Parameter(x2), Parameter(x3)])"
      ]
     },
     "execution_count": 82,
     "metadata": {},
     "output_type": "execute_result"
    }
   ],
   "source": [
    "circ1.parameters"
   ]
  },
  {
   "cell_type": "code",
   "execution_count": 81,
   "id": "1586a406",
   "metadata": {},
   "outputs": [],
   "source": [
    "parity=[\"00\",\"11\"]\n",
    "def get_output_single(circuit,x,para):\n",
    "    value_dict_1 = dict(zip(encode2.parameters,x))\n",
    "    value_dict_2 = dict(zip(vary2.parameters,para))\n",
    "    value_dict=Merge(value_dict_1, value_dict_2)\n",
    "    new_cq=circuit.assign_parameters(value_dict, inplace=False)\n",
    "    simulator = QasmSimulator()\n",
    "    compiled_circuit = transpile(new_cq, simulator)\n",
    "    job = simulator.run(compiled_circuit, shots=1000)\n",
    "    result = job.result()\n",
    "    counts = result.get_counts(compiled_circuit)\n",
    "    distribution=[0,0]\n",
    "    for key in counts.keys():\n",
    "        if key in parity:\n",
    "            distribution[0]=distribution[0]+counts[key]\n",
    "        else:\n",
    "            distribution[1]=distribution[1]+counts[key]\n",
    "    predict = distribution[0]/(distribution[0]+distribution[1])\n",
    "    return predict"
   ]
  },
  {
   "cell_type": "code",
   "execution_count": 91,
   "id": "deccfd1b",
   "metadata": {},
   "outputs": [],
   "source": [
    "para = np.random.random(52)"
   ]
  },
  {
   "cell_type": "code",
   "execution_count": 92,
   "id": "b0193f3c",
   "metadata": {},
   "outputs": [
    {
     "data": {
      "text/plain": [
       "array([0.87810782, 0.86954653, 0.02569272, 0.69881879, 0.77294287,\n",
       "       0.13070954, 0.93868876, 0.5229579 , 0.72875946, 0.51962197,\n",
       "       0.95820874, 0.92364366, 0.60038378, 0.34101344, 0.43436465,\n",
       "       0.66385834, 0.00288245, 0.99916272, 0.82852542, 0.12443949,\n",
       "       0.27034399, 0.8357751 , 0.71914593, 0.29330399, 0.7837802 ,\n",
       "       0.82390422, 0.01496655, 0.73302983, 0.71664296, 0.0887639 ,\n",
       "       0.69662576, 0.90088508, 0.50380804, 0.61361416, 0.96875356,\n",
       "       0.62671767, 0.96929976, 0.12259007, 0.75735924, 0.77288717,\n",
       "       0.79531448, 0.41547653, 0.3352322 , 0.49847831, 0.24147132,\n",
       "       0.06035979, 0.608789  , 0.30874382, 0.88863748, 0.29039968,\n",
       "       0.45543293, 0.39930925])"
      ]
     },
     "execution_count": 92,
     "metadata": {},
     "output_type": "execute_result"
    }
   ],
   "source": [
    "para"
   ]
  },
  {
   "cell_type": "code",
   "execution_count": 93,
   "id": "444906cb",
   "metadata": {},
   "outputs": [],
   "source": [
    "para_new = gradient_decent(circ,data[0],para,label[0])"
   ]
  },
  {
   "cell_type": "code",
   "execution_count": 94,
   "id": "e7ac09d6",
   "metadata": {},
   "outputs": [
    {
     "data": {
      "text/plain": [
       "0.3763952693632864"
      ]
     },
     "execution_count": 94,
     "metadata": {},
     "output_type": "execute_result"
    }
   ],
   "source": [
    "get_loss(circ,data[0],para_new,label[0])"
   ]
  },
  {
   "cell_type": "code",
   "execution_count": 95,
   "id": "e418a895",
   "metadata": {},
   "outputs": [],
   "source": [
    "para_new = gradient_decent(circ,data[0],para_new,label[0])"
   ]
  },
  {
   "cell_type": "code",
   "execution_count": 96,
   "id": "cb394700",
   "metadata": {},
   "outputs": [
    {
     "data": {
      "text/plain": [
       "0.3131726576422411"
      ]
     },
     "execution_count": 96,
     "metadata": {},
     "output_type": "execute_result"
    }
   ],
   "source": [
    "get_loss(circ,data[0],para_new,label[0])"
   ]
  },
  {
   "cell_type": "code",
   "execution_count": null,
   "id": "e2921b54",
   "metadata": {},
   "outputs": [],
   "source": []
  },
  {
   "cell_type": "code",
   "execution_count": 86,
   "id": "08611fa7",
   "metadata": {},
   "outputs": [],
   "source": [
    "def get_output_multi(circuit,x,para):\n",
    "    theta = para[:48].reshape(-1,2,6)\n",
    "    result = [1, 1, 1, 1]\n",
    "    for i in range(4):\n",
    "        for j in range(len(theta[i])):\n",
    "            result[i] = result[i] * get_output_single(circ[j],x,theta[i][j])\n",
    "    return result"
   ]
  },
  {
   "cell_type": "code",
   "execution_count": 87,
   "id": "f0ffde72",
   "metadata": {},
   "outputs": [],
   "source": [
    "def get_output_sum(circuit,x,para):\n",
    "    outputs = get_output_multi(circuit,x,para)\n",
    "    lam = para[48:]\n",
    "    result = 0\n",
    "    for i in range(4):\n",
    "        result = result + lam[i]*outputs[i]\n",
    "    if result<0:\n",
    "        result=0\n",
    "    if result>1:\n",
    "        result=1\n",
    "    return result"
   ]
  },
  {
   "cell_type": "code",
   "execution_count": 88,
   "id": "d2493b58",
   "metadata": {},
   "outputs": [],
   "source": [
    "def get_loss(circuit,x,para,y):\n",
    "    output = get_output_sum(circuit,x,para)\n",
    "    return np.abs(output-y)"
   ]
  },
  {
   "cell_type": "code",
   "execution_count": 89,
   "id": "c66344b3",
   "metadata": {},
   "outputs": [],
   "source": [
    "def gradient_calculate(circuit,x,para,y,index,eps=np.pi/2):\n",
    "    e_i = np.identity(para.size)[:,index]\n",
    "    plus = para + eps*e_i\n",
    "    minus = para - eps*e_i\n",
    "    gradient = (get_loss(circuit,x,plus,y)-get_loss(circuit,x,minus,y))/2\n",
    "    return gradient"
   ]
  },
  {
   "cell_type": "code",
   "execution_count": 90,
   "id": "5a5b5854",
   "metadata": {},
   "outputs": [],
   "source": [
    "def gradient_decent(circuit,x,para,y):\n",
    "    para_new = np.copy(para)\n",
    "    for index in range(len(para)): \n",
    "        gradient = gradient_calculate(circuit,x,para,y,index)\n",
    "        para_new[index] = para[index] - 0.1*gradient\n",
    "    return para_new"
   ]
  },
  {
   "cell_type": "code",
   "execution_count": 102,
   "id": "95b0f220",
   "metadata": {},
   "outputs": [],
   "source": [
    "data=[[2,2.1,3,2],[3,3,1,3],[4,0.6,2,3],[2,2,-3,-2],[3,1,-1,-4],[1,1,-4,-2]]\n",
    "label=[0,0,0,1,1,1]\n",
    "data=np.array(data)\n",
    "data=data/5"
   ]
  },
  {
   "cell_type": "code",
   "execution_count": 103,
   "id": "160d8017",
   "metadata": {},
   "outputs": [
    {
     "data": {
      "text/plain": [
       "array([[ 0.4 ,  0.42,  0.6 ,  0.4 ],\n",
       "       [ 0.6 ,  0.6 ,  0.2 ,  0.6 ],\n",
       "       [ 0.8 ,  0.12,  0.4 ,  0.6 ],\n",
       "       [ 0.4 ,  0.4 , -0.6 , -0.4 ],\n",
       "       [ 0.6 ,  0.2 , -0.2 , -0.8 ],\n",
       "       [ 0.2 ,  0.2 , -0.8 , -0.4 ]])"
      ]
     },
     "execution_count": 103,
     "metadata": {},
     "output_type": "execute_result"
    }
   ],
   "source": [
    "data"
   ]
  },
  {
   "cell_type": "code",
   "execution_count": 107,
   "id": "fcbdbbc6",
   "metadata": {},
   "outputs": [],
   "source": [
    "para = np.random.random(52)"
   ]
  },
  {
   "cell_type": "code",
   "execution_count": 108,
   "id": "5978524a",
   "metadata": {},
   "outputs": [
    {
     "name": "stdout",
     "output_type": "stream",
     "text": [
      "0.25\n",
      "0.0\n",
      "0.0\n",
      "0.0\n",
      "0.0\n"
     ]
    }
   ],
   "source": [
    "for i in range(5):\n",
    "    for j in range(len(label_test)):\n",
    "        x=data_test[j]\n",
    "        y=label_test[j]\n",
    "        para=gradient_decent(circ,x,para,y)\n",
    "    predicts=[]   \n",
    "    for j in range(len(label_test)):\n",
    "        x=data_test[j]\n",
    "        y=label_test[j]\n",
    "        predict = get_output_sum(circ,x,para)\n",
    "        if predict<0.5:\n",
    "            predicts.append(0)\n",
    "        else:\n",
    "            predicts.append(1)\n",
    "    predicts=np.array(predicts)\n",
    "    loss=np.abs((predicts-label_test)).mean()\n",
    "    print(loss)\n",
    "    #print((predicts==label).sum()/len(predicts))"
   ]
  },
  {
   "cell_type": "code",
   "execution_count": null,
   "id": "a5c4e4dd",
   "metadata": {},
   "outputs": [],
   "source": []
  },
  {
   "cell_type": "code",
   "execution_count": null,
   "id": "ec2337ea",
   "metadata": {},
   "outputs": [],
   "source": []
  },
  {
   "cell_type": "code",
   "execution_count": null,
   "id": "a652d35f",
   "metadata": {},
   "outputs": [],
   "source": [
    "import matplotlib.pyplot as plt\n",
    "plt.figure()\n",
    "plt.scatter(\n",
    "    data_test[:, 0][label_test == 1],\n",
    "    data_test[:, 1][label_test == 1],\n",
    "    c=\"b\",\n",
    "    marker=\"^\",\n",
    "    edgecolors=\"k\",\n",
    "    label=\"class 1 validation\",\n",
    ")\n",
    "\n",
    "plt.scatter(\n",
    "    data_test[:, 0][label_test == 0],\n",
    "    data_test[:, 1][label_test == 0],\n",
    "    c=\"r\",\n",
    "    marker=\"^\",\n",
    "    edgecolors=\"k\",\n",
    "    label=\"class 0 validation\",\n",
    ")\n",
    "\n",
    "plt.legend()\n",
    "plt.show()"
   ]
  },
  {
   "cell_type": "code",
   "execution_count": null,
   "id": "c1f2b63d",
   "metadata": {},
   "outputs": [],
   "source": []
  },
  {
   "cell_type": "code",
   "execution_count": null,
   "id": "7830ee5c",
   "metadata": {},
   "outputs": [],
   "source": []
  },
  {
   "cell_type": "code",
   "execution_count": null,
   "id": "ec8919cb",
   "metadata": {},
   "outputs": [],
   "source": [
    "import matplotlib.pyplot as plt\n",
    "plt.figure()\n",
    "cm = plt.cm.RdBu\n",
    "\n",
    "# make data for decision regions\n",
    "xx, yy = np.meshgrid(np.linspace(0.5, 1, 20), np.linspace(-0.5, 0.5, 20))\n",
    "X_grid = [np.array([x, y]) for x, y in zip(xx.flatten(), yy.flatten())]\n",
    "predictions_grid = [get_output(cir, f ,para) for f in X_grid]\n",
    "Z = np.reshape(predictions_grid, xx.shape)\n",
    "cnt = plt.contourf(xx, yy, Z, levels=np.arange(0, 1.1, 0.1), cmap=cm, alpha=0.8, extend=\"both\")\n",
    "plt.contour(xx, yy, Z, levels=[0.0], colors=(\"black\",), linestyles=(\"--\",), linewidths=(0.8,))\n",
    "plt.colorbar(cnt, ticks=[0, 0, 1])\n",
    "\n",
    "\n",
    "# plot data\n",
    "\n",
    "plt.scatter(\n",
    "    data_test[:, 0][label_test == 1],\n",
    "    data_test[:, 1][label_test == 1],\n",
    "    c=\"b\",\n",
    "    marker=\"^\",\n",
    "    edgecolors=\"k\",\n",
    "    label=\"class 1 validation\",\n",
    ")\n",
    "\n",
    "plt.scatter(\n",
    "    data_test[:, 0][label_test == 0],\n",
    "    data_test[:, 1][label_test == 0],\n",
    "    c=\"r\",\n",
    "    marker=\"^\",\n",
    "    edgecolors=\"k\",\n",
    "    label=\"class 0 validation\",\n",
    ")\n",
    "\n",
    "plt.legend()\n",
    "plt.show()"
   ]
  },
  {
   "cell_type": "code",
   "execution_count": null,
   "id": "d14eb4eb",
   "metadata": {},
   "outputs": [],
   "source": []
  }
 ],
 "metadata": {
  "kernelspec": {
   "display_name": "Python 3 (ipykernel)",
   "language": "python",
   "name": "python3"
  },
  "language_info": {
   "codemirror_mode": {
    "name": "ipython",
    "version": 3
   },
   "file_extension": ".py",
   "mimetype": "text/x-python",
   "name": "python",
   "nbconvert_exporter": "python",
   "pygments_lexer": "ipython3",
   "version": "3.9.0"
  }
 },
 "nbformat": 4,
 "nbformat_minor": 5
}
